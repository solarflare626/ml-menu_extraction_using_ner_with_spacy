{
 "cells": [
  {
   "cell_type": "code",
   "execution_count": null,
   "metadata": {},
   "outputs": [],
   "source": [
    "# import packages\n",
    "import json\n",
    "import pandas as pd \n",
    "import numpy as np\n",
    "import simplejson"
   ]
  },
  {
   "cell_type": "code",
   "execution_count": null,
   "metadata": {},
   "outputs": [],
   "source": [
    "# define labels\n",
    "SPOT_NAME = \"SPOT_NAME\"\n",
    "ADDRESS = \"ADDRESS\"\n",
    "BOROUGH = \"BOROUGH\"\n",
    "CITY = \"CITY\"\n",
    "STATE = \"STATE\"\n",
    "ZIP_CODE = \"ZIP_CODE\"\n",
    "AREA_NAME = \"AREA_NAME\"\n",
    "PHONE_NUMBER = \"PHONE_NUMBER\"\n",
    "EMAIL = \"EMAIL\"\n",
    "SPOT_DESC = \"SPOT_DESC\"\n",
    "\n",
    "MENU = \"MENU\"\n",
    "DRINK = \"DRINK\"\n",
    "PRICE = \"PRICE\"\n",
    "DESC = \"DESC\""
   ]
  },
  {
   "cell_type": "code",
   "execution_count": null,
   "metadata": {},
   "outputs": [],
   "source": [
    "# define class\n",
    "class Data:"
   ]
  },
  {
   "cell_type": "code",
   "execution_count": null,
   "metadata": {},
   "outputs": [],
   "source": [
    "    #  get training data from datas/v1\n",
    "    @staticmethod\n",
    "    def v1_training_data(filePath):\n",
    "        f = open(filePath, 'r')\n",
    "        data =simplejson.loads(f.read())\n",
    "        f.close()\n",
    "        return data"
   ]
  },
  {
   "cell_type": "code",
   "execution_count": 1,
   "metadata": {},
   "outputs": [],
   "source": [
    "    # get training data from file\n",
    "    # format: [[\"Fried Chicken is good\", {\"entities\": [[0, 13, \"MENU\"]]}]]\n",
    "    @staticmethod\n",
    "    def read_training_data(filePath):\n",
    "        f = open(filePath, 'r')\n",
    "        data =simplejson.loads(f.read())\n",
    "        f.close()\n",
    "        return data"
   ]
  },
  {
   "cell_type": "code",
   "execution_count": null,
   "metadata": {},
   "outputs": [],
   "source": [
    "    # function calling read_training_data(filepath)\n",
    "    @staticmethod\n",
    "    def training_data(filePath = \"datas/TRAINING_DATA.txt\"):\n",
    "        return Data.read_training_data(filePath)"
   ]
  },
  {
   "cell_type": "code",
   "execution_count": null,
   "metadata": {},
   "outputs": [],
   "source": [
    "    # get price data from file\n",
    "    #format: [[\"$1\", {\"entities\": [[0, 2, \"PRICE\"]]}]]\n",
    "    @staticmethod\n",
    "    def price_data(filePath = \"datas/PRICE_DATA.txt\"):\n",
    "        return Data.read_training_data(filePath)"
   ]
  },
  {
   "cell_type": "code",
   "execution_count": 2,
   "metadata": {},
   "outputs": [],
   "source": [
    "    # get lighttag data from json file\n",
    "    #format: [{\"annotations_and_examples\":[{\"content\":\"Pigs in a blanket\\n$5.50\\nMinature franks wrapped in a tasty pastry! 8 in a basket!\\nRibs\\n$9.50\\nA Half Dozen barbecue ribs per order.\",\"metadata\":{},\"annotations\":[{\"start\":0,\"end\":17,\"tag\":\"MENU\"},{\"start\":18,\"end\":23,\"tag\":\"PRICE\"},{\"start\":24,\"end\":81,\"tag\":\"DESC\"},{\"start\":82,\"end\":86,\"tag\":\"MENU\"},{\"start\":87,\"end\":92,\"tag\":\"PRICE\"},{\"start\":93,\"end\":130,\"tag\":\"DESC\"}],\"classifications\":[]}],\"relations\":{}}]\n",
    "    @staticmethod\n",
    "    def lighttag_data(filePath='data/lighttag.json'):\n",
    "        training_data = []\n",
    "        print(\"Extracting data from lighttag datas: \", filePath)\n",
    "        f = open(filePath)\n",
    "        text = f.read()\n",
    "        datas = json.loads(text)\n",
    "        f.close()\n",
    "\n",
    "        f = open(\"datas/ANOTATIONS.json\")\n",
    "        text = f.read()\n",
    "        sample_anotation = json.loads(text)\n",
    "        f.close()\n",
    "\n",
    "        datas += sample_anotation\n",
    "        #transform\n",
    "        \n",
    "        for data in datas:\n",
    "            values = data[\"annotations_and_examples\"]\n",
    "            for value in values:\n",
    "                content = value[\"content\"]\n",
    "                annotations = value[\"annotations\"]\n",
    "                entities = []\n",
    "\n",
    "                for annotation in annotations:\n",
    "                    entity = (annotation[\"start\"],annotation[\"end\"],annotation[\"tag\"])\n",
    "                    entities.append(entity)\n",
    "                \n",
    "                hold = (content,{\"entities\": entities})\n",
    "\n",
    "                training_data.append(hold)\n",
    "\n",
    "        return training_data"
   ]
  }
 ],
 "metadata": {
  "kernelspec": {
   "display_name": "Python 3",
   "language": "python",
   "name": "python3"
  },
  "language_info": {
   "codemirror_mode": {
    "name": "ipython",
    "version": 3
   },
   "file_extension": ".py",
   "mimetype": "text/x-python",
   "name": "python",
   "nbconvert_exporter": "python",
   "pygments_lexer": "ipython3",
   "version": "3.6.7"
  }
 },
 "nbformat": 4,
 "nbformat_minor": 2
}
